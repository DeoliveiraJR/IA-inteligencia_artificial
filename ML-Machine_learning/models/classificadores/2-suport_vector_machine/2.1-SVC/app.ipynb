{
 "cells": [
  {
   "cell_type": "code",
   "execution_count": null,
   "metadata": {},
   "outputs": [],
   "source": [
    "# 1. Importa as bibliotecas e aquivos :\n",
    "import pandas as pd\n",
    "import numpy as np\n",
    "import matplotlib.pyplot as plt\n",
    "from sklearn.metrics import accuracy_score\n",
    "from sklearn.preprocessing import MinMaxScaler\n",
    "from sklearn.preprocessing import OneHotEncoder\n",
    "from sklearn.model_selection import  train_test_split\n",
    "from sklearn.svm import SVC\n",
    "\n",
    "df = pd.read_csv('exemplo2.csv')\n",
    "df2 = pd.read_csv('exemplo3.csv')\n",
    "df2.head()"
   ]
  },
  {
   "cell_type": "code",
   "execution_count": null,
   "metadata": {},
   "outputs": [],
   "source": [
    "# OPCIONAL : Gráfico de dispersão\n",
    "plt.figure(figsize=(15, 8))\n",
    "plt.scatter(df[df.risco == 'ruim' ].idade, df[df.risco == 'ruim' ].conta_corrente)\n",
    "plt.scatter(df[df.risco == 'bom' ].idade, df[df.risco == 'bom' ].conta_corrente)\n",
    "plt.xlabel('idade')\n",
    "plt.ylabel('conta corrente')\n",
    "plt.legend(['ruim','bom'])"
   ]
  },
  {
   "cell_type": "code",
   "execution_count": 84,
   "metadata": {},
   "outputs": [],
   "source": [
    "# 2. Estruturação dos dados : \n",
    "# VERSÃO-1 : APENAS UMA COLUNA COM CATEGORIZADOS ============ :\n",
    "normalizador = MinMaxScaler()\n",
    "\n",
    "# 2.1. Estabelece Inputs, Output e Normaliza os dados:\n",
    "# input 'X':\n",
    "X_origin = df.drop('risco', axis=1)\n",
    "\n",
    "# output  'y':\n",
    "y_origin = df.risco\n",
    "\n",
    "# 2.2 normalizar os dados :\n",
    "X_norm = normalizador.fit_transform(X_origin)\n",
    "\n",
    "# 2.3. Estabelece bases de teste e treino :\n",
    "X_train, X_test, y_train, y_test = train_test_split(X_norm, y_origin, train_size=2/3, random_state=1)"
   ]
  },
  {
   "cell_type": "code",
   "execution_count": null,
   "metadata": {},
   "outputs": [],
   "source": [
    "# 2. Estruturação dos dados : \n",
    "# VERSÃO-2 : TRATAMENTO DE DADOS: MAIS DE UMA COLUNA COM DADOS CATEGORIZADOS ============ :\n",
    "normalizador = MinMaxScaler()\n",
    "onehot = OneHotEncoder(sparse=False, drop='first')\n",
    "\n",
    "# 2.1 - Estabelece Inputs, Output e Normaliza os dados:\n",
    "# input 'X':\n",
    "X_origin_v2 = df2.drop('risco', axis=1)\n",
    "\n",
    "# 2.2 - Normaliza os dados categoricos:\n",
    "X_cat = X_origin_v2.select_dtypes(include='object')\n",
    "X_bin = onehot.fit_transform(X_cat)\n",
    "\n",
    "# 2.3 - Normaliza os dados numéricos :\n",
    "X_num = X_origin_v2.select_dtypes(exclude='object')\n",
    "X_num = normalizador.fit_transform(X_num)\n",
    "\n",
    "# 2.4 - X final normalizado :\n",
    "X_all = np.append(X_num, X_bin, axis=1)\n",
    "\n",
    "# 2.5 - output  'y':\n",
    "y_origin_v2 = df2.risco\n",
    "\n",
    "# 2.6 - Estabelece bases de teste e treino :\n",
    "X_train_v2, X_test_v2, y_train_v2, y_test_v2 = train_test_split(X_all, y_origin_v2, train_size=2/3, random_state=1)"
   ]
  },
  {
   "cell_type": "code",
   "execution_count": null,
   "metadata": {},
   "outputs": [],
   "source": [
    "# SVC - Medindo a acuracia do modelo de classificação :\n",
    "svc = SVC()\n",
    "svc2 = SVC()\n",
    "svc.fit(X_train, y_train) # versao 1\n",
    "svc2.fit(X_train_v2, y_train_v2) # versão 2\n",
    "\n",
    "# accuracy_score(y_test, svc)\n",
    "ac1 = accuracy_score(y_test, svc.predict(X_test)) # versao 1\n",
    "ac2  =accuracy_score(y_test_v2, svc2.predict(X_test_v2)) # versão 2\n",
    "\n",
    "# Results :\n",
    "print(f'=== versão 1 : {ac1}')\n",
    "print(f'=== versão 2 : {ac2}')"
   ]
  },
  {
   "cell_type": "code",
   "execution_count": null,
   "metadata": {},
   "outputs": [],
   "source": [
    "# 4. Lógica para novo input :\n",
    "# Versão 1 :\n",
    "X_new = [[18, 800]]\n",
    "X_new_norm = normalizador.transform(X_new)\n",
    "\n",
    "# Versão 2 :\n",
    "X_new2 = pd.DataFrame({\n",
    "    \"idade\": [20, 25, 50, 35, 75],\n",
    "    \"conta_corrente\": [800, 4000, 2200, 3200, 1000],\n",
    "    \"sexo\": ['masculino', 'feminino' ,'masculino', 'feminino', 'feminino' ],\n",
    "})\n",
    "X_new2_cat = X_new2.select_dtypes(include=['object'])\n",
    "X_new2_ncat = X_new2.select_dtypes(exclude=['object'])\n",
    "X_new2_bin = onehot.transform(X_new2_cat)\n",
    "X_new2_num = normalizador.transform(X_new2_ncat)\n",
    "X_new2_all = np.append(X_new2_num, X_new2_bin, axis=1)\n",
    "\n",
    "# Results :\n",
    "predict1 = svc.predict(X_new_norm)\n",
    "predict2 = svc2.predict(X_new2_all)\n",
    "print(f'=== predição do modelo v1 : {predict1}')\n",
    "print(f'=== predição do modelo v2 : {predict2}')"
   ]
  }
 ],
 "metadata": {
  "kernelspec": {
   "display_name": "Python 3",
   "language": "python",
   "name": "python3"
  },
  "language_info": {
   "codemirror_mode": {
    "name": "ipython",
    "version": 3
   },
   "file_extension": ".py",
   "mimetype": "text/x-python",
   "name": "python",
   "nbconvert_exporter": "python",
   "pygments_lexer": "ipython3",
   "version": "3.10.8"
  },
  "orig_nbformat": 4
 },
 "nbformat": 4,
 "nbformat_minor": 2
}
