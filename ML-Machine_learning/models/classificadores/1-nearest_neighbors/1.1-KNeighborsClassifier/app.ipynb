{
 "cells": [
  {
   "cell_type": "code",
   "execution_count": null,
   "metadata": {},
   "outputs": [],
   "source": [
    "# 1. Importa as bibliotecas e aquivos :\n",
    "import pandas as pd\n",
    "import matplotlib.pyplot as plt\n",
    "from sklearn.neighbors import KNeighborsClassifier\n",
    "from sklearn.model_selection import  train_test_split\n",
    "from sklearn.metrics import accuracy_score\n",
    "from sklearn.preprocessing import MinMaxScaler\n",
    "\n",
    "df = pd.read_csv('exemplo2.csv')\n",
    "df.head()"
   ]
  },
  {
   "cell_type": "code",
   "execution_count": null,
   "metadata": {},
   "outputs": [],
   "source": [
    "# OPCIONAL : Gráfico de dispersão\n",
    "plt.figure(figsize=(15, 8))\n",
    "plt.scatter(df[df.risco == 'ruim' ].idade, df[df.risco == 'ruim' ].conta_corrente)\n",
    "plt.scatter(df[df.risco == 'bom' ].idade, df[df.risco == 'bom' ].conta_corrente)\n",
    "plt.xlabel('idade')\n",
    "plt.ylabel('conta corrente')\n",
    "plt.legend(['ruim','bom'])"
   ]
  },
  {
   "cell_type": "code",
   "execution_count": 110,
   "metadata": {},
   "outputs": [],
   "source": [
    "# 2. Estabelece Inputs, Output e Normaliza os dados:\n",
    "# input :\n",
    "X_origin = df.drop('risco', axis=1)\n",
    "X_origin.head()\n",
    "\n",
    "# output :\n",
    "y_origin = df.risco\n",
    "y_origin.head()\n",
    "\n",
    "# normalizar os dados :\n",
    "normalizador = MinMaxScaler()\n",
    "X_norm = normalizador.fit_transform(X_origin)"
   ]
  },
  {
   "cell_type": "code",
   "execution_count": 113,
   "metadata": {},
   "outputs": [
    {
     "data": {
      "text/plain": [
       "0.8705035971223022"
      ]
     },
     "execution_count": 113,
     "metadata": {},
     "output_type": "execute_result"
    }
   ],
   "source": [
    "# 3. Estabelece bases de teste e treino, roda o modelo e apura acuracia :\n",
    "X_train, X_test, y_train, y_test = train_test_split(X_norm, y_origin, train_size=2/3)\n",
    "\n",
    "knn = KNeighborsClassifier(n_neighbors=3)\n",
    "knn.fit(X_train, y_train)\n",
    "\n",
    "accuracy_score(y_test, knn.predict(X_test))"
   ]
  },
  {
   "cell_type": "code",
   "execution_count": 114,
   "metadata": {},
   "outputs": [
    {
     "name": "stderr",
     "output_type": "stream",
     "text": [
      "/home/codespace/.python/current/lib/python3.10/site-packages/sklearn/base.py:465: UserWarning: X does not have valid feature names, but MinMaxScaler was fitted with feature names\n",
      "  warnings.warn(\n"
     ]
    },
    {
     "data": {
      "text/plain": [
       "array(['ruim'], dtype=object)"
      ]
     },
     "execution_count": 114,
     "metadata": {},
     "output_type": "execute_result"
    }
   ],
   "source": [
    "# 4. Lógica para novo input :\n",
    "novo_cliente = [[18, 800]]\n",
    "X_new = normalizador.transform(novo_cliente)\n",
    "knn.predict(X_new)"
   ]
  }
 ],
 "metadata": {
  "kernelspec": {
   "display_name": "Python 3",
   "language": "python",
   "name": "python3"
  },
  "language_info": {
   "codemirror_mode": {
    "name": "ipython",
    "version": 3
   },
   "file_extension": ".py",
   "mimetype": "text/x-python",
   "name": "python",
   "nbconvert_exporter": "python",
   "pygments_lexer": "ipython3",
   "version": "3.10.8"
  },
  "orig_nbformat": 4
 },
 "nbformat": 4,
 "nbformat_minor": 2
}
